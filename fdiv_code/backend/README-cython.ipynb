{
 "cells": [
  {
   "cell_type": "markdown",
   "id": "exotic-liabilities",
   "metadata": {},
   "source": [
    "To install cython and run the code:\n",
    "\n",
    "- Install cython (e.g. pip install cython)\n",
    "- Compile the code in np_backend/cython by running python3 setup.py build_ext --inplace\n",
    "- You can try that the code works by running the notebook below"
   ]
  },
  {
   "cell_type": "code",
   "execution_count": 1,
   "id": "described-injury",
   "metadata": {},
   "outputs": [
    {
     "name": "stderr",
     "output_type": "stream",
     "text": [
      "<ipython-input-1-a20da11fc41f>:1: DeprecationWarning: `np.int` is a deprecated alias for the builtin `int`. To silence this warning, use `int` by itself. Doing this will not modify any behavior and is safe. When replacing `np.int`, you may wish to use e.g. `np.int64` or `np.int32` to specify the precision. If you wish to review your current use, check the release note link for additional information.\n",
      "Deprecated in NumPy 1.20; for more details and guidance: https://numpy.org/devdocs/release/1.20.0-notes.html#deprecations\n",
      "  import np_backend.cython.cython_utils as cython_utils\n"
     ]
    }
   ],
   "source": [
    "import np_backend.cython.cython_utils as cython_utils\n",
    "from np_backend.dro_conformal import find_worst_coverage\n",
    "import numpy as np"
   ]
  },
  {
   "cell_type": "code",
   "execution_count": 3,
   "id": "inside-agency",
   "metadata": {},
   "outputs": [],
   "source": [
    "np.random.seed(0)"
   ]
  },
  {
   "cell_type": "code",
   "execution_count": 4,
   "id": "buried-category",
   "metadata": {},
   "outputs": [],
   "source": [
    "N = 1000\n",
    "p = 0.95\n",
    "binary_coverage = np.random.binomial(1, p, size=N)\n",
    "delta = 0.1"
   ]
  },
  {
   "cell_type": "code",
   "execution_count": 5,
   "id": "final-secretariat",
   "metadata": {},
   "outputs": [],
   "source": [
    "begin, end = cython_utils.MaximumDensitySegment(\n",
    "    1.0 - binary_coverage, np.ones_like(binary_coverage, dtype=float),\n",
    "    float(delta * len(binary_coverage))\n",
    ")"
   ]
  },
  {
   "cell_type": "code",
   "execution_count": 6,
   "id": "frozen-quest",
   "metadata": {},
   "outputs": [
    {
     "data": {
      "text/plain": [
       "array([0, 1, 1, 1, 1, 0, 1, 1, 1, 1, 1, 1, 1, 1, 1, 1, 1, 1, 0, 1, 1, 1,\n",
       "       1, 1, 1, 1, 1, 1, 1, 1, 1, 1, 1, 1, 1, 1, 1, 1, 1, 1, 1, 1, 1, 0,\n",
       "       0, 1, 1, 1, 1, 0, 1, 1, 1, 1, 1, 1, 1, 1, 1, 1, 1, 1, 1, 1, 1, 1,\n",
       "       1, 1, 1, 1, 0, 0, 1, 1, 0, 1, 1, 0, 1, 1, 1, 1, 1, 1, 1, 1, 1, 1,\n",
       "       1, 1, 1, 1, 1, 1, 1, 1, 1, 1, 1, 1, 0, 0])"
      ]
     },
     "execution_count": 6,
     "metadata": {},
     "output_type": "execute_result"
    }
   ],
   "source": [
    "binary_coverage[begin:end+1]"
   ]
  },
  {
   "cell_type": "code",
   "execution_count": 7,
   "id": "aquatic-nebraska",
   "metadata": {},
   "outputs": [
    {
     "data": {
      "text/plain": [
       "0.8823529411764706"
      ]
     },
     "execution_count": 7,
     "metadata": {},
     "output_type": "execute_result"
    }
   ],
   "source": [
    "find_worst_coverage(binary_coverage, delta)"
   ]
  },
  {
   "cell_type": "markdown",
   "id": "commercial-major",
   "metadata": {},
   "source": [
    "Expected result: 0.8823"
   ]
  }
 ],
 "metadata": {
  "kernelspec": {
   "display_name": "Python 3",
   "language": "python",
   "name": "python3"
  },
  "language_info": {
   "codemirror_mode": {
    "name": "ipython",
    "version": 3
   },
   "file_extension": ".py",
   "mimetype": "text/x-python",
   "name": "python",
   "nbconvert_exporter": "python",
   "pygments_lexer": "ipython3",
   "version": "3.9.1"
  }
 },
 "nbformat": 4,
 "nbformat_minor": 5
}
