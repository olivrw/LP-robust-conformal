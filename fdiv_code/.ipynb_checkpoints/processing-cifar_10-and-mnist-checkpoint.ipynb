{
 "cells": [
  {
   "cell_type": "code",
   "execution_count": 1,
   "metadata": {},
   "outputs": [],
   "source": [
    "%load_ext autoreload\n",
    "# %load_ext lab_black\n",
    "\n",
    "%autoreload 2\n",
    "\n",
    "import os\n",
    "import sys\n",
    "sys.path.insert(1, f\"{os.getcwd()}/backend\")\n",
    "\n",
    "import pandas as pd\n",
    "import numpy as np\n",
    "import matplotlib.pyplot as plt\n",
    "import seaborn as sns\n",
    "\n",
    "sns.set()\n",
    "sns.set_context(\"paper\")\n",
    "\n",
    "import tensorflow as tf\n",
    "import tensorflow.keras.backend as K\n",
    "\n",
    "from tf_backend.tf_models import BigConvNet, OneLayerNet\n",
    "from tf_backend.tf_losses import pinball_loss_with_scores_keras, dependent_label_quantile_loss_keras, pinball_loss_keras\n",
    "from tf_backend.tf_utils import *\n",
    "from tf_backend.tf_metrics import *\n",
    "from tf_backend.tf_constraints import *\n",
    "\n",
    "import np_backend.conformal_utils as cf_utils\n",
    "\n",
    "from cifar10_experiment import *"
   ]
  },
  {
   "cell_type": "code",
   "execution_count": 2,
   "metadata": {},
   "outputs": [],
   "source": [
    "my_dataset = \"mnist\" # \"cifar10\" # \"mnist\"\n",
    "\n",
    "data_folder = \"datasets/CIFAR10\"\n",
    "\n",
    "path_to_scratch = os.getcwd()\n",
    "path_to_data = path_to_scratch + data_folder\n",
    "\n",
    "n_classes = 10\n",
    "\n",
    "class_names = [\n",
    "    \"airplane\",\n",
    "    \"automobile\",\n",
    "    \"bird\",\n",
    "    \"cat\",\n",
    "    \"deer\",\n",
    "    \"dog\",\n",
    "    \"frog\",\n",
    "    \"horse\",\n",
    "    \"ship\",\n",
    "    \"truck\",\n",
    "]"
   ]
  },
  {
   "cell_type": "markdown",
   "metadata": {},
   "source": [
    "# Load Standard CIFAR-10 (or MNIST) Dataset"
   ]
  },
  {
   "cell_type": "code",
   "execution_count": 3,
   "metadata": {},
   "outputs": [],
   "source": [
    "import pdb"
   ]
  },
  {
   "cell_type": "code",
   "execution_count": 4,
   "metadata": {},
   "outputs": [
    {
     "name": "stdout",
     "output_type": "stream",
     "text": [
      "tf.Tensor(5, shape=(), dtype=uint8)\n"
     ]
    },
    {
     "data": {
      "image/png": "[encoded data removed]",
      "text/plain": [
       "<Figure size 360x216 with 1 Axes>"
      ]
     },
     "metadata": {
      "needs_background": "light"
     },
     "output_type": "display_data"
    },
    {
     "name": "stdout",
     "output_type": "stream",
     "text": [
      "tf.Tensor(0, shape=(), dtype=uint8)\n"
     ]
    },
    {
     "data": {
      "image/png": "[encoded data removed]",
      "text/plain": [
       "<Figure size 360x216 with 1 Axes>"
      ]
     },
     "metadata": {
      "needs_background": "light"
     },
     "output_type": "display_data"
    }
   ],
   "source": [
    "data_images = {}\n",
    "data_labels = {}\n",
    "\n",
    "if my_dataset == \"cifar10\":\n",
    "    (data_images[\"train\"],\n",
    "     data_labels[\"train\"]), (data_images[\"val\"], data_labels[\"val\"]\n",
    "                            ) = tf.keras.datasets.cifar10.load_data()\n",
    "\n",
    "else:\n",
    "    (data_images[\"train\"],\n",
    "     data_labels[\"train\"]), (data_images[\"val\"], data_labels[\"val\"]\n",
    "                            ) = tf.keras.datasets.mnist.load_data()\n",
    "    \n",
    "cifar_tf_ds = {}\n",
    "\n",
    "for dataset in [\"train\", \"val\"]:\n",
    "    cifar_tf_ds[dataset] = tf.data.Dataset.from_tensor_slices(\n",
    "        (data_images[dataset], data_labels[dataset])\n",
    "    )\n",
    "\n",
    "\n",
    "def img_cifar_preprocessing(training=True, my_dataset=\"cifar10\"):\n",
    "    def process(img, label):\n",
    "        if training:\n",
    "            if my_dataset == \"cifar10\":\n",
    "                img = tf.image.random_flip_left_right(img)\n",
    "                img = tf.image.random_crop(img, [28, 28, 3])\n",
    "                img = tf.image.resize_with_crop_or_pad(img, 32, 32)\n",
    "            else:\n",
    "                img = tf.image.random_crop(img, [28, 28])\n",
    "                \n",
    "        if my_dataset == \"mnist\":\n",
    "            img = tf.reshape(img, [28, 28, 1])\n",
    "                \n",
    "        img = img / 255\n",
    "        return img, label\n",
    "\n",
    "    return process\n",
    "\n",
    "\n",
    "for x, y in cifar_tf_ds[\"train\"].take(2):\n",
    "    print(y)\n",
    "    plt.figure(figsize=(5, 3))\n",
    "    plt.imshow(x.numpy())\n",
    "    plt.show()"
   ]
  },
  {
   "cell_type": "code",
   "execution_count": 5,
   "metadata": {},
   "outputs": [],
   "source": [
    "batch_size = 128\n",
    "cifar_tf_ds[\"train\"] = cifar_tf_ds[\"train\"].map(\n",
    "    img_cifar_preprocessing(training=True, my_dataset=my_dataset)\n",
    ")\n",
    "cifar_tf_ds[\"train\"] = cifar_tf_ds[\"train\"].shuffle(buffer_size=1000)\n",
    "cifar_tf_ds[\"train\"] = cifar_tf_ds[\"train\"].batch(batch_size=batch_size)\n",
    "cifar_tf_ds[\"train\"] = cifar_tf_ds[\"train\"].prefetch(\n",
    "    buffer_size=tf.data.experimental.AUTOTUNE\n",
    ")\n",
    "\n",
    "cifar_tf_ds[\"val\"] = cifar_tf_ds[\"val\"].map(\n",
    "    img_cifar_preprocessing(training=False, my_dataset=my_dataset)\n",
    ")\n",
    "cifar_tf_ds[\"val\"] = cifar_tf_ds[\"val\"].batch(batch_size=batch_size)\n",
    "\n",
    "\n",
    "def one_hot_cifar10_preprocessing(img, label):\n",
    "    return img, tf.one_hot(tf.reshape(label, [-1]), n_classes, axis=-1)\n",
    "\n",
    "\n",
    "cifar_tf_ds[\"train\"] = cifar_tf_ds[\"train\"].map(one_hot_cifar10_preprocessing)\n",
    "cifar_tf_ds[\"val\"] = cifar_tf_ds[\"val\"].map(one_hot_cifar10_preprocessing)"
   ]
  },
  {
   "cell_type": "markdown",
   "metadata": {},
   "source": [
    "# Load New CIFAR (or QMNIST) Test Set"
   ]
  },
  {
   "cell_type": "code",
   "execution_count": 6,
   "metadata": {},
   "outputs": [
    {
     "data": {
      "text/plain": [
       "'mnist'"
      ]
     },
     "execution_count": 6,
     "metadata": {},
     "output_type": "execute_result"
    }
   ],
   "source": [
    "my_dataset"
   ]
  },
  {
   "cell_type": "code",
   "execution_count": 7,
   "metadata": {},
   "outputs": [
    {
     "data": {
      "text/plain": [
       "{'train': <MapDataset shapes: ((None, 28, 28, 1), (None, 10)), types: (tf.float32, tf.float32)>,\n",
       " 'val': <MapDataset shapes: ((None, 28, 28, 1), (None, 10)), types: (tf.float32, tf.float32)>}"
      ]
     },
     "execution_count": 7,
     "metadata": {},
     "output_type": "execute_result"
    }
   ],
   "source": [
    "cifar_tf_ds"
   ]
  },
  {
   "cell_type": "code",
   "execution_count": 8,
   "metadata": {},
   "outputs": [],
   "source": [
    "if my_dataset == \"cifar10\":\n",
    "\n",
    "    cifar_testv2_X = np.load(\n",
    "        path_to_data + \"/CIFAR-10.1/datasets/cifar10.1_v6_data.npy\"\n",
    "    )\n",
    "    cifar_testv2_y = np.load(\n",
    "        path_to_data + \"/CIFAR-10.1/datasets/cifar10.1_v6_labels.npy\"\n",
    "    )\n",
    "\n",
    "else:\n",
    "    \n",
    "    images_path = f'{os.getcwd()}/datasets/QMNIST/actual_data/qmnist-test-images-idx3-ubyte'\n",
    "    labels_path = f'{os.getcwd()}/datasets/QMNIST/actual_data/qmnist-test-labels-idx1-ubyte'\n",
    "\n",
    "    import idx2numpy\n",
    "    X = idx2numpy.convert_from_file(images_path)\n",
    "    y = idx2numpy.convert_from_file(labels_path)\n",
    "\n",
    "    cifar_testv2_X = X[10000:,:]\n",
    "    cifar_testv2_y = y[10000:]\n",
    "    \n",
    "cifar_testv2_y_onehot = np.zeros((cifar_testv2_y.shape[0], n_classes))\n",
    "cifar_testv2_y_onehot[np.arange(cifar_testv2_y.shape[0]), cifar_testv2_y] = 1\n",
    "\n",
    "cifar_tf_ds[\"testV2\"] = tf.data.Dataset.from_tensor_slices(\n",
    "    (cifar_testv2_X, cifar_testv2_y)\n",
    ")"
   ]
  },
  {
   "cell_type": "code",
   "execution_count": 9,
   "metadata": {},
   "outputs": [
    {
     "name": "stdout",
     "output_type": "stream",
     "text": [
      "tf.Tensor(3, shape=(), dtype=uint8)\n"
     ]
    },
    {
     "data": {
      "image/png": "[encoded data removed]",
      "text/plain": [
       "<Figure size 360x216 with 1 Axes>"
      ]
     },
     "metadata": {
      "needs_background": "light"
     },
     "output_type": "display_data"
    },
    {
     "name": "stdout",
     "output_type": "stream",
     "text": [
      "tf.Tensor(8, shape=(), dtype=uint8)\n"
     ]
    },
    {
     "data": {
      "image/png": "[encoded data removed]",
      "text/plain": [
       "<Figure size 360x216 with 1 Axes>"
      ]
     },
     "metadata": {
      "needs_background": "light"
     },
     "output_type": "display_data"
    }
   ],
   "source": [
    "for x, y in cifar_tf_ds[\"testV2\"].take(2):\n",
    "    print(y)\n",
    "    plt.figure(figsize=(5, 3))\n",
    "    plt.imshow(x.numpy())\n",
    "    plt.show()"
   ]
  },
  {
   "cell_type": "code",
   "execution_count": 10,
   "metadata": {},
   "outputs": [
    {
     "data": {
      "text/plain": [
       "{'testV2': <TensorSliceDataset shapes: ((28, 28), ()), types: (tf.uint8, tf.uint8)>,\n",
       " 'train': <MapDataset shapes: ((None, 28, 28, 1), (None, 10)), types: (tf.float32, tf.float32)>,\n",
       " 'val': <MapDataset shapes: ((None, 28, 28, 1), (None, 10)), types: (tf.float32, tf.float32)>}"
      ]
     },
     "execution_count": 10,
     "metadata": {},
     "output_type": "execute_result"
    }
   ],
   "source": [
    "cifar_tf_ds"
   ]
  },
  {
   "cell_type": "code",
   "execution_count": 11,
   "metadata": {},
   "outputs": [
    {
     "data": {
      "text/plain": [
       "<MapDataset shapes: ((None, 28, 28, 1), (None, 10)), types: (tf.float32, tf.float32)>"
      ]
     },
     "execution_count": 11,
     "metadata": {},
     "output_type": "execute_result"
    }
   ],
   "source": [
    "cifar_tf_ds[\"testV2\"] = cifar_tf_ds[\"testV2\"].map(\n",
    "    img_cifar_preprocessing(training=False, my_dataset=\"mnist\")\n",
    ")\n",
    "cifar_tf_ds[\"testV2\"] = cifar_tf_ds[\"testV2\"].batch(batch_size=batch_size)\n",
    "cifar_tf_ds[\"testV2\"] = cifar_tf_ds[\"testV2\"].map(one_hot_cifar10_preprocessing)\n",
    "\n",
    "cifar_tf_ds[\"testV2\"]"
   ]
  },
  {
   "cell_type": "code",
   "execution_count": 12,
   "metadata": {},
   "outputs": [
    {
     "data": {
      "text/plain": [
       "{'testV2': <MapDataset shapes: ((None, 28, 28, 1), (None, 10)), types: (tf.float32, tf.float32)>,\n",
       " 'train': <MapDataset shapes: ((None, 28, 28, 1), (None, 10)), types: (tf.float32, tf.float32)>,\n",
       " 'val': <MapDataset shapes: ((None, 28, 28, 1), (None, 10)), types: (tf.float32, tf.float32)>}"
      ]
     },
     "execution_count": 12,
     "metadata": {},
     "output_type": "execute_result"
    }
   ],
   "source": [
    "cifar_tf_ds"
   ]
  },
  {
   "cell_type": "code",
   "execution_count": 17,
   "metadata": {},
   "outputs": [
    {
     "data": {
      "text/plain": [
       "<MapDataset shapes: ((None, 28, 28, 1), (None, 10)), types: (tf.float32, tf.float32)>"
      ]
     },
     "execution_count": 17,
     "metadata": {},
     "output_type": "execute_result"
    }
   ],
   "source": [
    "cifar_tf_ds[\"train\"]"
   ]
  },
  {
   "cell_type": "markdown",
   "metadata": {},
   "source": [
    "# Load Prediction Model"
   ]
  },
  {
   "cell_type": "code",
   "execution_count": 13,
   "metadata": {},
   "outputs": [],
   "source": [
    "if my_dataset == \"cifar10\":\n",
    "    \n",
    "    model = BigConvNet(\n",
    "        name=\"ResNetCIFARV2\",\n",
    "        input_shape=(32, 32, 3),\n",
    "        output_shape=10,\n",
    "        n_blocks=3,\n",
    "    )"
   ]
  },
  {
   "cell_type": "markdown",
   "metadata": {},
   "source": [
    "Pre-Trained Predictive Network (achieving about 93% accuracy) at the following path"
   ]
  },
  {
   "cell_type": "code",
   "execution_count": 14,
   "metadata": {},
   "outputs": [
    {
     "name": "stdout",
     "output_type": "stream",
     "text": [
      "tmp  weights_ResNet50V2CIFAR_pretrained.h5  weights_ResNet50V2_pretrained.h5\n"
     ]
    }
   ],
   "source": [
    "f\"{os.getcwd()}/datasets/CIFAR10/models\""
   ]
  },
  {
   "cell_type": "code",
   "execution_count": 21,
   "metadata": {},
   "outputs": [
    {
     "data": {
      "text/plain": [
       "<MapDataset shapes: ((None, 28, 28, 1), (None, 10)), types: (tf.float32, tf.float32)>"
      ]
     },
     "execution_count": 21,
     "metadata": {},
     "output_type": "execute_result"
    }
   ],
   "source": [
    "cifar_tf_ds[\"train\"]"
   ]
  },
  {
   "cell_type": "code",
   "execution_count": 25,
   "metadata": {},
   "outputs": [
    {
     "name": "stdout",
     "output_type": "stream",
     "text": [
      "Epoch 1/6\n",
      "469/469 [==============================] - 3s 6ms/step - loss: 0.3659 - accuracy: 0.8992 - val_accuracy: 0.9411 - val_loss: 0.2040\n",
      "Epoch 2/6\n",
      "469/469 [==============================] - 2s 5ms/step - loss: 0.1683 - accuracy: 0.9523 - val_accuracy: 0.9597 - val_loss: 0.1381\n",
      "Epoch 3/6\n",
      "469/469 [==============================] - 3s 5ms/step - loss: 0.1198 - accuracy: 0.9654 - val_accuracy: 0.9670 - val_loss: 0.1118\n",
      "Epoch 4/6\n",
      "469/469 [==============================] - 2s 5ms/step - loss: 0.0922 - accuracy: 0.9733 - val_accuracy: 0.9690 - val_loss: 0.1011\n",
      "Epoch 5/6\n",
      "469/469 [==============================] - 3s 5ms/step - loss: 0.0745 - accuracy: 0.9783 - val_accuracy: 0.9727 - val_loss: 0.0924\n",
      "Epoch 6/6\n",
      "469/469 [==============================] - 2s 5ms/step - loss: 0.0618 - accuracy: 0.9824 - val_accuracy: 0.9737 - val_loss: 0.0870\n"
     ]
    },
    {
     "data": {
      "text/plain": [
       "<tensorflow.python.keras.callbacks.History at 0x7fe753701588>"
      ]
     },
     "execution_count": 25,
     "metadata": {},
     "output_type": "execute_result"
    }
   ],
   "source": [
    "if dataset == \"mnist\":\n",
    "    \n",
    "    ds_train = cifar_tf_ds[\"train\"]\n",
    "    ds_test = cifar_tf_ds[\"val\"]\n",
    "\n",
    "    model = tf.keras.models.Sequential([\n",
    "      tf.keras.layers.Flatten(input_shape=(28, 28, 1)),\n",
    "      tf.keras.layers.Dense(128,activation='relu'),\n",
    "      tf.keras.layers.Dense(10, activation='softmax')\n",
    "    ])\n",
    "    model.compile(\n",
    "        loss='categorical_crossentropy',\n",
    "        optimizer=tf.keras.optimizers.Adam(0.001),\n",
    "        metrics=['accuracy'],\n",
    "    )\n",
    "\n",
    "    model.fit(\n",
    "        ds_train,\n",
    "        epochs=6,\n",
    "        validation_data=ds_test,\n",
    "    )"
   ]
  },
  {
   "cell_type": "code",
   "execution_count": 26,
   "metadata": {},
   "outputs": [],
   "source": [
    "if dataset == \"mnist\":\n",
    "    \n",
    "    model.save_weights(f'{os.getcwd()}/models/weights_mnist.h5')"
   ]
  },
  {
   "cell_type": "code",
   "execution_count": 27,
   "metadata": {},
   "outputs": [],
   "source": [
    "if dataset == \"cifar10\":\n",
    "\n",
    "    model_weights_path = path_to_data + \"/models\" + \"/weights_ResNet50V2CIFAR_pretrained.h5\"\n",
    "    model.load_weights(model_weights_path)\n",
    "\n",
    "    optimizer_args = {\"learning_rate\": 0.1, \"momentum\": 0.9, \"nesterov\": True}\n",
    "    optimizer = optimizer_dict[\"SGD\"](**optimizer_args)\n",
    "    metrics_list = [tf.keras.metrics.CategoricalAccuracy(name=\"accuracy\")]\n",
    "\n",
    "    model.compile(\n",
    "        optimizer,\n",
    "        loss=\"categorical_crossentropy\",\n",
    "        metrics=metrics_list,\n",
    "    )"
   ]
  },
  {
   "cell_type": "code",
   "execution_count": 28,
   "metadata": {},
   "outputs": [
    {
     "name": "stdout",
     "output_type": "stream",
     "text": [
      "Model: \"sequential_2\"\n",
      "_________________________________________________________________\n",
      "Layer (type)                 Output Shape              Param #   \n",
      "=================================================================\n",
      "flatten_3 (Flatten)          (None, 784)               0         \n",
      "_________________________________________________________________\n",
      "dense_5 (Dense)              (None, 128)               100480    \n",
      "_________________________________________________________________\n",
      "dense_6 (Dense)              (None, 10)                1290      \n",
      "=================================================================\n",
      "Total params: 101,770\n",
      "Trainable params: 101,770\n",
      "Non-trainable params: 0\n",
      "_________________________________________________________________\n"
     ]
    }
   ],
   "source": [
    "model.summary()"
   ]
  },
  {
   "cell_type": "markdown",
   "metadata": {},
   "source": [
    "# Check model performance"
   ]
  },
  {
   "cell_type": "code",
   "execution_count": 29,
   "metadata": {},
   "outputs": [
    {
     "name": "stdout",
     "output_type": "stream",
     "text": [
      "469/469 [==============================] - 2s 4ms/step - loss: 0.0549 - accuracy: 0.9835\n"
     ]
    },
    {
     "data": {
      "text/plain": [
       "[0.054887041449546814, 0.9835166931152344]"
      ]
     },
     "execution_count": 29,
     "metadata": {},
     "output_type": "execute_result"
    }
   ],
   "source": [
    "model.evaluate(cifar_tf_ds[\"train\"])"
   ]
  },
  {
   "cell_type": "code",
   "execution_count": 30,
   "metadata": {},
   "outputs": [
    {
     "name": "stdout",
     "output_type": "stream",
     "text": [
      "79/79 [==============================] - 0s 5ms/step - loss: 0.0870 - accuracy: 0.9737\n"
     ]
    },
    {
     "data": {
      "text/plain": [
       "[0.08698935806751251, 0.9736999869346619]"
      ]
     },
     "execution_count": 30,
     "metadata": {},
     "output_type": "execute_result"
    }
   ],
   "source": [
    "model.evaluate(cifar_tf_ds[\"val\"])"
   ]
  },
  {
   "cell_type": "code",
   "execution_count": 31,
   "metadata": {},
   "outputs": [
    {
     "name": "stdout",
     "output_type": "stream",
     "text": [
      "391/391 [==============================] - 2s 4ms/step - loss: 0.1023 - accuracy: 0.9692\n"
     ]
    },
    {
     "data": {
      "text/plain": [
       "[0.10227405279874802, 0.9691799879074097]"
      ]
     },
     "execution_count": 31,
     "metadata": {},
     "output_type": "execute_result"
    }
   ],
   "source": [
    "model.evaluate(cifar_tf_ds[\"testV2\"])"
   ]
  },
  {
   "cell_type": "markdown",
   "metadata": {},
   "source": [
    "# Save Features to numpy"
   ]
  },
  {
   "cell_type": "code",
   "execution_count": 35,
   "metadata": {},
   "outputs": [],
   "source": [
    "if dataset == \"cifar10\":\n",
    "    n_features = 256\n",
    "\n",
    "else:\n",
    "    n_features = 128\n",
    "    \n",
    "model_preprocessing = tf.keras.Model(\n",
    "    inputs=model.input, outputs=model.layers[-2].output\n",
    ")"
   ]
  },
  {
   "cell_type": "code",
   "execution_count": 36,
   "metadata": {},
   "outputs": [],
   "source": [
    "dataset_split_list = list(cifar_tf_ds.keys())"
   ]
  },
  {
   "cell_type": "code",
   "execution_count": 37,
   "metadata": {},
   "outputs": [],
   "source": [
    "scores = {}\n",
    "labels = {}\n",
    "features = {}\n",
    "\n",
    "for dataset in dataset_split_list:\n",
    "    features[dataset] = np.empty((0, n_features))\n",
    "    labels[dataset] = np.empty((0, n_classes))\n",
    "    scores[dataset] = np.empty((0, n_classes))\n",
    "    for x, y in cifar_tf_ds[dataset]:\n",
    "        features[dataset] = np.concatenate(\n",
    "            (features[dataset], model_preprocessing(x).numpy()), axis=0\n",
    "        )\n",
    "        scores[dataset] = np.concatenate(\n",
    "            (scores[dataset], np.log(model(x).numpy())), axis=0\n",
    "        )\n",
    "        labels[dataset] = np.concatenate((labels[dataset], y.numpy()), axis=0)"
   ]
  },
  {
   "cell_type": "code",
   "execution_count": 38,
   "metadata": {},
   "outputs": [
    {
     "data": {
      "text/plain": [
       "'/britten1/maxcauch/datasets/CIFAR10'"
      ]
     },
     "execution_count": 38,
     "metadata": {},
     "output_type": "execute_result"
    }
   ],
   "source": [
    "path_to_data"
   ]
  },
  {
   "cell_type": "code",
   "execution_count": 41,
   "metadata": {},
   "outputs": [],
   "source": [
    "path_to_data_bkup = path_to_data\n",
    "\n",
    "if dataset == \"cifar10\":\n",
    "    path_to_data = f'{os.getcwd()}/datasets/CIFAR10'\n",
    "    \n",
    "else:\n",
    "    path_to_data = f'{os.getcwd()}/datasets/QMNIST'"
   ]
  },
  {
   "cell_type": "code",
   "execution_count": 43,
   "metadata": {},
   "outputs": [],
   "source": [
    "for dataset in dataset_split_list:\n",
    "    np.save(\n",
    "        path_to_data + \"/np_data/\" + dataset + \".npy\", {\n",
    "            \"features\": features[dataset],\n",
    "            \"labels\": labels[dataset],\n",
    "            \"scores\": scores[dataset]\n",
    "        }\n",
    "    )"
   ]
  },
  {
   "cell_type": "markdown",
   "metadata": {},
   "source": [
    "You can load train, val, and testV2 data already preprocessed on Britten (through the NN) directly in numpy format, at the following location"
   ]
  },
  {
   "cell_type": "code",
   "execution_count": 48,
   "metadata": {},
   "outputs": [
    {
     "data": {
      "text/plain": [
       "(50000, 128)"
      ]
     },
     "execution_count": 48,
     "metadata": {},
     "output_type": "execute_result"
    }
   ],
   "source": [
    "np.load(path_to_data + \"/np_data/\" + dataset + \".npy\",\n",
    "        allow_pickle=True).item()[\"features\"].shape"
   ]
  }
 ],
 "metadata": {
  "kernelspec": {
   "display_name": "Python 3 (ipykernel)",
   "language": "python",
   "name": "python3"
  },
  "language_info": {
   "codemirror_mode": {
    "name": "ipython",
    "version": 3
   },
   "file_extension": ".py",
   "mimetype": "text/x-python",
   "name": "python",
   "nbconvert_exporter": "python",
   "pygments_lexer": "ipython3",
   "version": "3.10.9"
  }
 },
 "nbformat": 4,
 "nbformat_minor": 4
}
